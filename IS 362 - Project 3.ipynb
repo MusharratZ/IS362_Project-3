{
 "cells": [
  {
   "cell_type": "code",
   "execution_count": 13,
   "id": "01f294e2",
   "metadata": {},
   "outputs": [],
   "source": [
    "import sqlite3\n",
    "import pandas as pd\n",
    "\n",
    "# Connect to the SQLite version\n",
    "conn = sqlite3.connect(\"Chinook_Sqlite.sqlite\")"
   ]
  },
  {
   "cell_type": "code",
   "execution_count": 16,
   "id": "42055a1d",
   "metadata": {},
   "outputs": [],
   "source": [
    "# retrieve information\n",
    "# - selecting customer; first name and last name\n",
    "# - Join invoice tables on CustomerId to link customers\n",
    "# - Join InvoiceLine table on InvoiceId to link invoices to purchased goods\n",
    "# - Join track table on TrackId to get track names.\n",
    "# - Join Album table on AlbumId to get album titles\n",
    "# - order the results by customer last name and the first name\n",
    "\n",
    "query = '''\n",
    "    SELECT c.LastName, c.FirstName, t.Name AS TrackName, a.Title AS AlbumTitle\n",
    "    FROM Customer AS c\n",
    "    INNER JOIN Invoice AS i ON c.CustomerId = i.CustomerId\n",
    "    INNER JOIN InvoiceLine AS il ON i.InvoiceId = il.InvoiceId\n",
    "    INNER JOIN Track AS t ON il.TrackId = t.TrackId\n",
    "    INNER JOIN Album AS a ON t.AlbumId = a.AlbumId\n",
    "    ORDER BY c.LastName, c.FirstName\n",
    "'''\n"
   ]
  },
  {
   "cell_type": "code",
   "execution_count": 17,
   "id": "e651c507",
   "metadata": {},
   "outputs": [],
   "source": [
    "# Execute the SQL queryand fetch the results into the DataFrame\n",
    "df = pd.read_sql_query(query, conn)"
   ]
  },
  {
   "cell_type": "code",
   "execution_count": 6,
   "id": "91d368ca",
   "metadata": {},
   "outputs": [],
   "source": [
    "# Close connection to the database\n",
    "conn.close()"
   ]
  },
  {
   "cell_type": "code",
   "execution_count": 18,
   "id": "9d3d0dce",
   "metadata": {},
   "outputs": [
    {
     "name": "stdout",
     "output_type": "stream",
     "text": [
      "  LastName FirstName                                          TrackName  \\\n",
      "0  Almeida   Roberto                            Right Next Door to Hell   \n",
      "1  Almeida   Roberto                                     In The Evening   \n",
      "2  Almeida   Roberto                                   Fool In The Rain   \n",
      "3  Almeida   Roberto  Saudade Dos Aviões Da Panair (Conversando No Bar)   \n",
      "4  Almeida   Roberto                             Caso Você Queira Saber   \n",
      "\n",
      "                AlbumTitle  \n",
      "0      Use Your Illusion I  \n",
      "1  In Through The Out Door  \n",
      "2  In Through The Out Door  \n",
      "3                    Minas  \n",
      "4                    Minas  \n"
     ]
    }
   ],
   "source": [
    "# Display the first few rows of the DataFrame\n",
    "print(df.head())"
   ]
  },
  {
   "cell_type": "code",
   "execution_count": null,
   "id": "247fbeed",
   "metadata": {},
   "outputs": [],
   "source": []
  }
 ],
 "metadata": {
  "kernelspec": {
   "display_name": "Python 3 (ipykernel)",
   "language": "python",
   "name": "python3"
  },
  "language_info": {
   "codemirror_mode": {
    "name": "ipython",
    "version": 3
   },
   "file_extension": ".py",
   "mimetype": "text/x-python",
   "name": "python",
   "nbconvert_exporter": "python",
   "pygments_lexer": "ipython3",
   "version": "3.11.8"
  }
 },
 "nbformat": 4,
 "nbformat_minor": 5
}
